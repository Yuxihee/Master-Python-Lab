{
 "cells": [
  {
   "cell_type": "code",
   "execution_count": null,
   "id": "40f0c065",
   "metadata": {},
   "outputs": [],
   "source": [
    "#1)  Verify if  a value is integer\n",
    "x = 5.6\n",
    "\n",
    "if isinstance(x, int):\n",
    "    print(\"Is an Integer\")\n",
    "else:\n",
    "    print(\"is no integer\")"
   ]
  },
  {
   "cell_type": "code",
   "execution_count": null,
   "id": "ce6bdd5b",
   "metadata": {},
   "outputs": [],
   "source": [
    "#2) Verify if a value is even\n",
    "x = 3\n",
    "\n",
    "if x % 2 == 0: \n",
    "    print (\"is even\")\n",
    "else:\n",
    "    print (\"is not even\")"
   ]
  },
  {
   "cell_type": "code",
   "execution_count": null,
   "id": "81ef311c",
   "metadata": {},
   "outputs": [],
   "source": [
    "#3) Insert two numbers. Is the first is bigger than the second?\n",
    "A = 99\n",
    "B = 98\n",
    "\n",
    "if A > B:\n",
    "    print (\"A is bigger than B\")\n",
    "else:\n",
    "    print (\"B is not bigger than A\") "
   ]
  },
  {
   "cell_type": "code",
   "execution_count": null,
   "id": "ddeb227d",
   "metadata": {},
   "outputs": [],
   "source": [
    "#4) Verify if one value is multiple of another\n",
    "a=9\n",
    "b=4\n",
    "\n",
    "if a%b==0:\n",
    "    print(\"a is mutiple of b\")\n",
    "else:   \n",
    "    print(\"a is not mutiple of b\")"
   ]
  },
  {
   "cell_type": "code",
   "execution_count": null,
   "id": "0371605e",
   "metadata": {},
   "outputs": [],
   "source": [
    "#5) Calculate the interest earn by an investor that \n",
    "#invested a capital of 200 during 3 years with an interest rate of 3%. \n",
    "#(I= P\\*R\\*T)\n",
    "\n",
    "\n",
    "P=200\n",
    "R=0.03\n",
    "T=3\n",
    "interest = P*R*T\n",
    "print(interest)"
   ]
  },
  {
   "cell_type": "code",
   "execution_count": null,
   "id": "56c47611",
   "metadata": {},
   "outputs": [],
   "source": [
    "\n",
    "# 6) Capital that an investor obtained after \n",
    "# investing a capital of 200 during 3 years with an interest rate of 3%. (Compound interest)\n",
    "\n",
    "P=200\n",
    "R=0.03\n",
    "T=3\n",
    "compoundinterest=P*(1+R)**T\n",
    "print(compoundinterest)"
   ]
  },
  {
   "cell_type": "code",
   "execution_count": null,
   "id": "4664e17f",
   "metadata": {},
   "outputs": [],
   "source": [
    "#7) Calculate your BMI (Body Mass Index)  \n",
    "   \n",
    "#$BMI = mass (kg)/height^2 (m)$\n",
    "\n",
    "M=100\n",
    "H = 1.67\n",
    "BMI = M / (H**2)\n",
    "print(BMI)"
   ]
  },
  {
   "cell_type": "code",
   "execution_count": null,
   "id": "6545c60e",
   "metadata": {},
   "outputs": [],
   "source": [
    "#8) Calcule the Golden ration:   \n",
    "    \n",
    "#$gr=(1+\\sqrt{5})/2$\n",
    "\n",
    "gr = (1 + 5 ** 0.5) / 2\n",
    "print(gr)"
   ]
  },
  {
   "cell_type": "code",
   "execution_count": null,
   "id": "e837e9b1",
   "metadata": {},
   "outputs": [],
   "source": [
    "import math\n",
    "gr = (1 + math.sqrt(5)) / 2\n",
    "print(gr)"
   ]
  },
  {
   "cell_type": "code",
   "execution_count": null,
   "id": "9047ecc7",
   "metadata": {},
   "outputs": [],
   "source": [
    "# 9) Calculete the NPV (Net present value) of an investment, considering an initial investment of 10000, the following Cashflows 2000,3000, 4000, 4000 and 5000 and a discount rate of 10%.\n",
    "\n",
    "# $NPV = \\sum_{t=1}^{n}\\frac{FV_{t}}{(1 + k)^{t}} – I$\n",
    "\n",
    "# Where:\n",
    "\n",
    "# FV = Future cost of the cash inflows,\n",
    "# I = Initial Investment\n",
    "# k = Discount rate equal to the owner’s cost of capital\n",
    "\n",
    "\n",
    "# 注释：For this case, I used Kimi, a Chinses tool like chatgpt for the answer and also ask for Kimi to explain the code.\n",
    "# Here is my explaination based on my understanding of the code:\n",
    "1.enumerate function is to generate a turple for later sum up\n",
    "2.+= is to accumulated sum all the value in the turple and grant the sum up value to variable npv\n",
    "\n",
    "\n",
    "cash_flows = [2000, 3000, 3000, 4000, 5000]\n",
    "discount_rate = 0.1\n",
    "initial_investment = 10000\n",
    "npv = -initial_investment\n",
    "for t, cash in enumerate(cash_flows, start=0):\n",
    "    npv += cash / ((1 + discount_rate) ** (t + 1))\n",
    "print(f\"The Net Present Value (NPV) is: {npv:.2f}\")"
   ]
  },
  {
   "cell_type": "code",
   "execution_count": null,
   "id": "c8b71853",
   "metadata": {},
   "outputs": [],
   "source": [
    "# 10) Ask the user to insert name and age. Calculate the the birth. Print a result saying the 'this person was born in'\n",
    "# 1. Solve the problem without using modules and libraries\n",
    "# 2. Solve the problem using the date library from module datetime, as fallow:\n",
    "\n",
    "Name = input(\"Enter Your Name\")\n",
    "Age = int(input(\"Enter Your Age\"))\n",
    "CurrentYear=2024\n",
    "BirthYear=CurrentYear-Age\n",
    "print(f\"{NAME} was born in {BirthYear}\")"
   ]
  },
  {
   "cell_type": "code",
   "execution_count": null,
   "id": "c1ad5c1e",
   "metadata": {},
   "outputs": [],
   "source": [
    "Name = input(\"Enter Your Name\")\n",
    "Age = int(input(\"Enter Your Age\"))\n",
    "from datetime import date  \n",
    "TODAY = date.today()\n",
    "CurrentYear = TODAY.year\n",
    "BirthYear = CurrentYear - Age\n",
    "print(f\"{NAME} was born in {BirthYear}\")"
   ]
  },
  {
   "cell_type": "code",
   "execution_count": null,
   "id": "bc12ca9f",
   "metadata": {},
   "outputs": [],
   "source": [
    "# 11) Ask the user to insert forenames, surnames. create a new variable (name) with your complete name.\n",
    "   \n",
    "# Create the follwoing variables:   \n",
    "   \n",
    "# **nameBig**, where all the characters of the name are capitalized   \n",
    "# **nameTitle**, where the only the first character of each name (word) is capitalized   \n",
    "# **nameSmall**, where all the characters of the name are lower   \n",
    "# **nameCapitalized**, where only the first charater of the first name is capitalized   \n",
    "\n",
    "Forename = input(\"Enter Your Fornames: \")\n",
    "Surname = input(\"Enter Your Surnames: \")\n",
    "\n",
    "name = Forename + \" \" + Surname\n",
    "nameBig=name.upper()\n",
    "nameTitle=name.title()\n",
    "nameSmall=name.lower()\n",
    "nameCapitalized=name.capitalize()\n",
    "print(name)  \n",
    "print(nameBig)\n",
    "print(nameTitle)  \n",
    "print(nameSmall)  \n",
    "print(nameCapitalized)  "
   ]
  },
  {
   "cell_type": "code",
   "execution_count": null,
   "id": "2c164638",
   "metadata": {},
   "outputs": [],
   "source": [
    "# 12) Use the follwoing method to show where in which carater appears the firs \"da\"\n",
    "   \n",
    "# ```python\n",
    "# str.find(sub,start,end)\n",
    "# ```\n",
    "   \n",
    "# What happens if does not find? \n",
    "#show \"-1\" as result\n",
    "\n",
    "string=\"lkjdjsodjfodfogmsdoplokna\"\n",
    "b=string.find(\"a\",0,30)\n",
    "print(b) "
   ]
  },
  {
   "cell_type": "code",
   "execution_count": null,
   "id": "39afd0ba",
   "metadata": {},
   "outputs": [],
   "source": [
    "string=\"lkjdjsodjfodfogmsdoplokn\"\n",
    "b=string.find(\"a\",0,30)\n",
    "print(b) "
   ]
  }
 ],
 "metadata": {
  "kernelspec": {
   "display_name": "Python 3 (ipykernel)",
   "language": "python",
   "name": "python3"
  },
  "language_info": {
   "codemirror_mode": {
    "name": "ipython",
    "version": 3
   },
   "file_extension": ".py",
   "mimetype": "text/x-python",
   "name": "python",
   "nbconvert_exporter": "python",
   "pygments_lexer": "ipython3",
   "version": "3.9.12"
  }
 },
 "nbformat": 4,
 "nbformat_minor": 5
}
