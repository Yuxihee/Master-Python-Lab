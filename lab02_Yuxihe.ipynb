{
  "cells": [
    {
      "cell_type": "markdown",
      "source": [
        "# Lab 2\n",
        "(Prof. Carlos J. Costa)"
      ],
      "metadata": {}
    },
    {
      "cell_type": "markdown",
      "source": [
        "**1)**  Construct a list (shoppingList) including 'potatoes', 'carrots', 'cod' and 'sprouts’"
      ],
      "metadata": {}
    },
    {
      "cell_type": "code",
      "source": [
        "ShoppingList=['potatos','carrots','cod','sprouts']\n",
        "print(ShoppingList)"
      ],
      "outputs": [],
      "execution_count": 1,
      "metadata": {}
    },
    {
      "cell_type": "markdown",
      "source": [
        "**2)** Get the second and the last element of the list"
      ],
      "metadata": {}
    },
    {
      "cell_type": "code",
      "source": [
        "\n",
        "Second=ShoppingList[1]\n",
        "print(Second)\n",
        "Last=ShoppingList[-1]\n",
        "print(Last)\n"
      ],
      "outputs": [],
      "execution_count": 2,
      "metadata": {}
    },
    {
      "cell_type": "markdown",
      "source": [
        "**3)** Iterate though the list in order that the users see the following list of phrases: \"We should eate sprouts\", \"We should eate carrots\"..."
      ],
      "metadata": {}
    },
    {
      "cell_type": "code",
      "source": [
        "for food in ShoppingList:\n",
        "    print(f\"We should eat {food}\")"
      ],
      "outputs": [],
      "execution_count": 3,
      "metadata": {}
    },
    {
      "cell_type": "markdown",
      "source": [
        "**4)** Add the follwoing elements to the shoppingList: orange and lime \n"
      ],
      "metadata": {}
    },
    {
      "cell_type": "code",
      "source": [
        "ShoppingList.append(\"orange\")\n",
        "ShoppingList.append(\"lime\")\n",
        "print(ShoppingList)"
      ],
      "outputs": [],
      "execution_count": 4,
      "metadata": {}
    },
    {
      "cell_type": "markdown",
      "source": [
        "**5)** Remove the carrots, the first element and last element of the shoppingList list"
      ],
      "metadata": {}
    },
    {
      "cell_type": "code",
      "source": [
        "ShoppingList.remove('carrots')\n",
        "print(ShoppingList)\n",
        "ShoppingList.pop(0)\n",
        "print(ShoppingList)\n",
        "ShoppingList.pop()\n",
        "print(ShoppingList)\n"
      ],
      "outputs": [],
      "execution_count": 5,
      "metadata": {}
    },
    {
      "cell_type": "markdown",
      "source": [
        "**6)** How many fruits are there in the shopping list \n",
        "fruits = [\"apples\", \"bananas\", \"oranges\", \"grapes\"]\n",
        "fruitCount=sum(item in fruits for item in ShoppingList)\n",
        "print(fruitCount)"
      ],
      "metadata": {}
    },
    {
      "cell_type": "code",
      "source": [
        "#Code here"
      ],
      "outputs": [],
      "execution_count": 7,
      "metadata": {}
    },
    {
      "cell_type": "markdown",
      "source": [
        "**7)** Obtain the first 3 elements of the list"
      ],
      "metadata": {}
    },
    {
      "cell_type": "code",
      "source": [
        "FirstThree=ShoppingList[:3]\n",
        "print(FirstThree)\n"
      ],
      "outputs": [],
      "execution_count": null,
      "metadata": {}
    },
    {
      "cell_type": "markdown",
      "source": [
        "**8)** What is the result of\n",
        "\n",
        "shopping = shoppingList\n",
        "\n",
        "shoppingListCopy = shoppingList[:]\n",
        "\n",
        "print(shopping)\n",
        "\n",
        "Why?"
      ],
      "metadata": {}
    },
    {
      "cell_type": "code",
      "source": [
        "The result is the same as shoppingList.\n",
        "Because grant all content of \"shoppinglist\" to variable \"shopping\" and \"shoppingList\"\n"
      ],
      "outputs": [],
      "execution_count": null,
      "metadata": {}
    },
    {
      "cell_type": "markdown",
      "source": [
        "\n",
        "**9)** What is the result of\n",
        "\n",
        "shopping = shoppingList\n",
        "\n",
        "shoppingList.append(\"orange\")\n",
        "\n",
        "print(shopping)\n",
        "\n",
        "Why?"
      ],
      "metadata": {}
    },
    {
      "cell_type": "code",
      "source": [
        "The result is ['potatos', 'carrots', 'cod', 'sprouts', 'orange']. \n",
        "Because for List, the values are mutable. The list varialbe \"shoppingList\" append orange value, the variable \"shopping\" will also append.\n"
      ],
      "outputs": [],
      "execution_count": null,
      "metadata": {}
    },
    {
      "cell_type": "markdown",
      "source": [
        "**10)** romove all the items from the shoppingList "
      ],
      "metadata": {}
    },
    {
      "cell_type": "code",
      "source": [
        "ShoppingList.clear()\n",
        "print(ShoppingList)"
      ],
      "outputs": [],
      "execution_count": null,
      "metadata": {}
    },
    {
      "cell_type": "markdown",
      "source": [
        "**11)** What is the result of, \n",
        "\n",
        "newPurchases= (\"bananas\", \"beans\", \"rice\")\n",
        "\n",
        "print (newPurchases [1])\n",
        "\n",
        "newPurchases [0] = \"apple\"\n",
        "\n",
        "Why?\n"
      ],
      "metadata": {}
    },
    {
      "cell_type": "code",
      "source": [
        "Error occur: 'tuple' object does not support item assignment\n",
        "Because tuples are immutable\n"
      ],
      "outputs": [],
      "execution_count": null,
      "metadata": {}
    },
    {
      "cell_type": "markdown",
      "source": [
        "**12)** Create a dictionary including the follwoing elements: orange, apple, pear, grape and peach. Key are 1 to 5. Iterate through key-value pair."
      ],
      "metadata": {}
    },
    {
      "cell_type": "code",
      "source": [
        "fruit = {1: 'orange', 2: 'apple', 3: 'pear', 4: 'grape', 5: 'peach'}\n",
        "print(fruit)\n",
        "\n",
        "for key,value in fruit.items():\n",
        "    print(f\"key:{key},value:{value}\")\n"
      ],
      "outputs": [],
      "execution_count": null,
      "metadata": {}
    },
    {
      "cell_type": "markdown",
      "source": [
        "**13)** Create a weekList that is composed of several lists, each one corresponding to a day list. Each day list includes the groceries to buy on this day.."
      ],
      "metadata": {}
    },
    {
      "cell_type": "code",
      "source": [
        "monday_groceries = [\"milk\", \"bread\", \"eggs\"]\n",
        "tuesday_groceries = [\"apples\", \"bananas\", \"carrots\"]\n",
        "wednesday_groceries = [\"rice\", \"chicken\", \"broccoli\"]\n",
        "thursday_groceries = [\"tomatoes\", \"onions\", \"garlic\"]\n",
        "friday_groceries = [\"salmon\", \"lettuce\", \"avocado\"]\n",
        "saturday_groceries = [\"beer\", \"chips\", \"ice cream\"]\n",
        "sunday_groceries = [\"coffee\", \"croissants\", \"orange juice\"]\n",
        "\n",
        "weekList=[monday_groceries,tuesday_groceries,wednesday_groceries,thursday_groceries,friday_groceries,saturday_groceries,sunday_groceries]\n",
        "for i, day_list in enumerate(weekList, start=1):\n",
        "    print(f\"Day {i} groceries: {day_list}\")\n",
        "\n",
        "\n",
        "\n"
      ],
      "outputs": [],
      "execution_count": 9,
      "metadata": {}
    },
    {
      "cell_type": "markdown",
      "source": [
        "**14)** Delete the shoppingList list"
      ],
      "metadata": {}
    },
    {
      "cell_type": "code",
      "source": [
        "\n",
        "del shoppingList\n"
      ],
      "outputs": [],
      "execution_count": 10,
      "metadata": {}
    },
    {
      "cell_type": "markdown",
      "source": [
        "**15)** Create a list where x is belongs to a list of values from 1 to 100 and you want to generate a new list of y.\n",
        "\n",
        "\\begin{align}\n",
        "y & = 3x^2+2x+4 \\\\\n",
        "\\end{align}\n"
      ],
      "metadata": {}
    },
    {
      "cell_type": "code",
      "source": [
        "y=[x**3+x*2+4 for x in range(1, 100)]\n",
        "print(y)\n",
        "\n",
        "\n"
      ],
      "outputs": [],
      "execution_count": null,
      "metadata": {}
    }
  ],
  "metadata": {
    "kernelspec": {
      "name": "python",
      "language": "python",
      "display_name": "Pyolite (preview)"
    },
    "language_info": {
      "codemirror_mode": {
        "name": "python",
        "version": 3
      },
      "file_extension": ".py",
      "mimetype": "text/x-python",
      "name": "python",
      "nbconvert_exporter": "python",
      "pygments_lexer": "ipython3",
      "version": "3.8"
    },
    "kernel_info": {
      "name": "python"
    },
    "nteract": {
      "version": "nteract-front-end@1.0.0"
    }
  },
  "nbformat": 4,
  "nbformat_minor": 2
}