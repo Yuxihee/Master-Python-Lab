{
  "cells": [
    {
      "cell_type": "code",
      "source": [
        "import pandas as pd\n",
        "import numpy as np\n",
        "file=\"https://github.com/masterfloss/sustainability/raw/refs/heads/main/lisboa.xlsx\"\n",
        "df = pd.read_excel(file)\n",
        "pois = df[df['Metro'] == 'POI']\n",
        "pois"
      ],
      "outputs": [
        {
          "output_type": "execute_result",
          "execution_count": 6,
          "data": {
            "text/html": "<div>\n<style scoped>\n    .dataframe tbody tr th:only-of-type {\n        vertical-align: middle;\n    }\n\n    .dataframe tbody tr th {\n        vertical-align: top;\n    }\n\n    .dataframe thead th {\n        text-align: right;\n    }\n</style>\n<table border=\"1\" class=\"dataframe\">\n  <thead>\n    <tr style=\"text-align: right;\">\n      <th></th>\n      <th>Name</th>\n      <th>Line</th>\n      <th>Latitude (°N)</th>\n      <th>Longitude (°W)</th>\n      <th>Metro</th>\n    </tr>\n  </thead>\n  <tbody>\n    <tr>\n      <th>0</th>\n      <td>Belém Tower</td>\n      <td>NaN</td>\n      <td>38.6916</td>\n      <td>9.2150</td>\n      <td>POI</td>\n    </tr>\n    <tr>\n      <th>1</th>\n      <td>Jerónimos Monastery</td>\n      <td>NaN</td>\n      <td>38.6971</td>\n      <td>9.2069</td>\n      <td>POI</td>\n    </tr>\n    <tr>\n      <th>2</th>\n      <td>Commerce Square (Praça do Comércio)</td>\n      <td>NaN</td>\n      <td>38.7078</td>\n      <td>9.1366</td>\n      <td>POI</td>\n    </tr>\n    <tr>\n      <th>3</th>\n      <td>São Jorge Castle</td>\n      <td>NaN</td>\n      <td>38.7139</td>\n      <td>9.1335</td>\n      <td>POI</td>\n    </tr>\n    <tr>\n      <th>4</th>\n      <td>Rossio Square</td>\n      <td>NaN</td>\n      <td>38.7140</td>\n      <td>9.1396</td>\n      <td>POI</td>\n    </tr>\n    <tr>\n      <th>5</th>\n      <td>Santa Justa Lift</td>\n      <td>NaN</td>\n      <td>38.7114</td>\n      <td>9.1391</td>\n      <td>POI</td>\n    </tr>\n    <tr>\n      <th>6</th>\n      <td>Alfama District</td>\n      <td>NaN</td>\n      <td>38.7110</td>\n      <td>9.1283</td>\n      <td>POI</td>\n    </tr>\n    <tr>\n      <th>7</th>\n      <td>Marquês de Pombal Square</td>\n      <td>NaN</td>\n      <td>38.7253</td>\n      <td>9.1504</td>\n      <td>POI</td>\n    </tr>\n    <tr>\n      <th>8</th>\n      <td>LX Factory</td>\n      <td>NaN</td>\n      <td>38.7025</td>\n      <td>9.1788</td>\n      <td>POI</td>\n    </tr>\n    <tr>\n      <th>9</th>\n      <td>Gulbenkian Museum</td>\n      <td>NaN</td>\n      <td>38.7369</td>\n      <td>9.1544</td>\n      <td>POI</td>\n    </tr>\n    <tr>\n      <th>10</th>\n      <td>National Museum of Ancient Art</td>\n      <td>NaN</td>\n      <td>38.7070</td>\n      <td>9.1629</td>\n      <td>POI</td>\n    </tr>\n    <tr>\n      <th>11</th>\n      <td>Lisbon Oceanarium</td>\n      <td>NaN</td>\n      <td>38.7633</td>\n      <td>9.0937</td>\n      <td>POI</td>\n    </tr>\n    <tr>\n      <th>12</th>\n      <td>Eduardo VII Park</td>\n      <td>NaN</td>\n      <td>38.7305</td>\n      <td>9.1524</td>\n      <td>POI</td>\n    </tr>\n    <tr>\n      <th>13</th>\n      <td>Carmo Convent</td>\n      <td>NaN</td>\n      <td>38.7128</td>\n      <td>9.1396</td>\n      <td>POI</td>\n    </tr>\n    <tr>\n      <th>14</th>\n      <td>Fado Museum</td>\n      <td>NaN</td>\n      <td>38.7108</td>\n      <td>9.1256</td>\n      <td>POI</td>\n    </tr>\n    <tr>\n      <th>15</th>\n      <td>MAAT (Museum of Art, Architecture and Technology)</td>\n      <td>NaN</td>\n      <td>38.6979</td>\n      <td>9.1975</td>\n      <td>POI</td>\n    </tr>\n    <tr>\n      <th>16</th>\n      <td>Estrela Basilica</td>\n      <td>NaN</td>\n      <td>38.7131</td>\n      <td>9.1601</td>\n      <td>POI</td>\n    </tr>\n    <tr>\n      <th>17</th>\n      <td>Amoreiras Shopping Center</td>\n      <td>NaN</td>\n      <td>38.7268</td>\n      <td>9.1608</td>\n      <td>POI</td>\n    </tr>\n    <tr>\n      <th>18</th>\n      <td>Benfica Stadium</td>\n      <td>NaN</td>\n      <td>38.7538</td>\n      <td>9.1847</td>\n      <td>POI</td>\n    </tr>\n    <tr>\n      <th>19</th>\n      <td>Monument to the Discoveries</td>\n      <td>NaN</td>\n      <td>38.6939</td>\n      <td>9.2055</td>\n      <td>POI</td>\n    </tr>\n  </tbody>\n</table>\n</div>",
            "text/plain": "                                                 Name Line  Latitude (°N)  \\\n0                                         Belém Tower  NaN        38.6916   \n1                                 Jerónimos Monastery  NaN        38.6971   \n2                 Commerce Square (Praça do Comércio)  NaN        38.7078   \n3                                    São Jorge Castle  NaN        38.7139   \n4                                       Rossio Square  NaN        38.7140   \n5                                    Santa Justa Lift  NaN        38.7114   \n6                                     Alfama District  NaN        38.7110   \n7                            Marquês de Pombal Square  NaN        38.7253   \n8                                          LX Factory  NaN        38.7025   \n9                                   Gulbenkian Museum  NaN        38.7369   \n10                     National Museum of Ancient Art  NaN        38.7070   \n11                                  Lisbon Oceanarium  NaN        38.7633   \n12                                   Eduardo VII Park  NaN        38.7305   \n13                                      Carmo Convent  NaN        38.7128   \n14                                        Fado Museum  NaN        38.7108   \n15  MAAT (Museum of Art, Architecture and Technology)  NaN        38.6979   \n16                                   Estrela Basilica  NaN        38.7131   \n17                          Amoreiras Shopping Center  NaN        38.7268   \n18                                    Benfica Stadium  NaN        38.7538   \n19                        Monument to the Discoveries  NaN        38.6939   \n\n    Longitude (°W) Metro  \n0           9.2150   POI  \n1           9.2069   POI  \n2           9.1366   POI  \n3           9.1335   POI  \n4           9.1396   POI  \n5           9.1391   POI  \n6           9.1283   POI  \n7           9.1504   POI  \n8           9.1788   POI  \n9           9.1544   POI  \n10          9.1629   POI  \n11          9.0937   POI  \n12          9.1524   POI  \n13          9.1396   POI  \n14          9.1256   POI  \n15          9.1975   POI  \n16          9.1601   POI  \n17          9.1608   POI  \n18          9.1847   POI  \n19          9.2055   POI  "
          },
          "metadata": {}
        }
      ],
      "execution_count": 6,
      "metadata": {},
      "id": "c50cc8e7"
    },
    {
      "cell_type": "code",
      "source": [
        "metros = df[df['Metro'] == 'Metro']\n",
        "metros"
      ],
      "outputs": [
        {
          "output_type": "execute_result",
          "execution_count": 7,
          "data": {
            "text/html": "<div>\n<style scoped>\n    .dataframe tbody tr th:only-of-type {\n        vertical-align: middle;\n    }\n\n    .dataframe tbody tr th {\n        vertical-align: top;\n    }\n\n    .dataframe thead th {\n        text-align: right;\n    }\n</style>\n<table border=\"1\" class=\"dataframe\">\n  <thead>\n    <tr style=\"text-align: right;\">\n      <th></th>\n      <th>Name</th>\n      <th>Line</th>\n      <th>Latitude (°N)</th>\n      <th>Longitude (°W)</th>\n      <th>Metro</th>\n    </tr>\n  </thead>\n  <tbody>\n    <tr>\n      <th>20</th>\n      <td>Reboleira</td>\n      <td>Blue Line</td>\n      <td>38.7361</td>\n      <td>9.1982</td>\n      <td>Metro</td>\n    </tr>\n    <tr>\n      <th>21</th>\n      <td>Amadora Este</td>\n      <td>Blue Line</td>\n      <td>38.7487</td>\n      <td>9.2093</td>\n      <td>Metro</td>\n    </tr>\n    <tr>\n      <th>22</th>\n      <td>Alfornelos</td>\n      <td>Blue Line</td>\n      <td>38.7476</td>\n      <td>9.1962</td>\n      <td>Metro</td>\n    </tr>\n    <tr>\n      <th>23</th>\n      <td>Pontinha</td>\n      <td>Blue Line</td>\n      <td>38.7570</td>\n      <td>9.1906</td>\n      <td>Metro</td>\n    </tr>\n    <tr>\n      <th>24</th>\n      <td>Carnide</td>\n      <td>Blue Line</td>\n      <td>38.7572</td>\n      <td>9.1976</td>\n      <td>Metro</td>\n    </tr>\n    <tr>\n      <th>25</th>\n      <td>Colégio Militar/Luz</td>\n      <td>Blue Line</td>\n      <td>38.7516</td>\n      <td>9.1914</td>\n      <td>Metro</td>\n    </tr>\n    <tr>\n      <th>26</th>\n      <td>Alto dos Moinhos</td>\n      <td>Blue Line</td>\n      <td>38.7437</td>\n      <td>9.1727</td>\n      <td>Metro</td>\n    </tr>\n    <tr>\n      <th>27</th>\n      <td>Laranjeiras</td>\n      <td>Blue Line</td>\n      <td>38.7378</td>\n      <td>9.1686</td>\n      <td>Metro</td>\n    </tr>\n    <tr>\n      <th>28</th>\n      <td>Jardim Zoológico</td>\n      <td>Blue Line</td>\n      <td>38.7376</td>\n      <td>9.1648</td>\n      <td>Metro</td>\n    </tr>\n    <tr>\n      <th>29</th>\n      <td>Praça de Espanha</td>\n      <td>Blue Line</td>\n      <td>38.7350</td>\n      <td>9.1575</td>\n      <td>Metro</td>\n    </tr>\n    <tr>\n      <th>30</th>\n      <td>São Sebastião</td>\n      <td>Blue Line</td>\n      <td>38.7315</td>\n      <td>9.1532</td>\n      <td>Metro</td>\n    </tr>\n    <tr>\n      <th>31</th>\n      <td>Parque</td>\n      <td>Blue Line</td>\n      <td>38.7318</td>\n      <td>9.1487</td>\n      <td>Metro</td>\n    </tr>\n    <tr>\n      <th>32</th>\n      <td>Marquês de Pombal</td>\n      <td>Blue Line</td>\n      <td>38.7254</td>\n      <td>9.1502</td>\n      <td>Metro</td>\n    </tr>\n    <tr>\n      <th>33</th>\n      <td>Avenida</td>\n      <td>Blue Line</td>\n      <td>38.7202</td>\n      <td>9.1453</td>\n      <td>Metro</td>\n    </tr>\n    <tr>\n      <th>34</th>\n      <td>Restauradores</td>\n      <td>Blue Line</td>\n      <td>38.7156</td>\n      <td>9.1416</td>\n      <td>Metro</td>\n    </tr>\n    <tr>\n      <th>35</th>\n      <td>Baixa-Chiado</td>\n      <td>Blue Line</td>\n      <td>38.7106</td>\n      <td>9.1395</td>\n      <td>Metro</td>\n    </tr>\n    <tr>\n      <th>36</th>\n      <td>Terreiro do Paço</td>\n      <td>Blue Line</td>\n      <td>38.7078</td>\n      <td>9.1366</td>\n      <td>Metro</td>\n    </tr>\n    <tr>\n      <th>37</th>\n      <td>Santa Apolónia</td>\n      <td>Blue Line</td>\n      <td>38.7134</td>\n      <td>9.1221</td>\n      <td>Metro</td>\n    </tr>\n    <tr>\n      <th>38</th>\n      <td>Odivelas</td>\n      <td>Green Line</td>\n      <td>38.7939</td>\n      <td>9.1766</td>\n      <td>Metro</td>\n    </tr>\n    <tr>\n      <th>39</th>\n      <td>Senhor Roubado</td>\n      <td>Green Line</td>\n      <td>38.7833</td>\n      <td>9.1706</td>\n      <td>Metro</td>\n    </tr>\n    <tr>\n      <th>40</th>\n      <td>Ameixoeira</td>\n      <td>Green Line</td>\n      <td>38.7767</td>\n      <td>9.1662</td>\n      <td>Metro</td>\n    </tr>\n    <tr>\n      <th>41</th>\n      <td>Lumiar</td>\n      <td>Green Line</td>\n      <td>38.7728</td>\n      <td>9.1636</td>\n      <td>Metro</td>\n    </tr>\n    <tr>\n      <th>42</th>\n      <td>Quinta das Conchas</td>\n      <td>Green Line</td>\n      <td>38.7674</td>\n      <td>9.1572</td>\n      <td>Metro</td>\n    </tr>\n    <tr>\n      <th>43</th>\n      <td>Campo Grande</td>\n      <td>Green Line</td>\n      <td>38.7598</td>\n      <td>9.1574</td>\n      <td>Metro</td>\n    </tr>\n    <tr>\n      <th>44</th>\n      <td>Cidade Universitária</td>\n      <td>Green Line</td>\n      <td>38.7512</td>\n      <td>9.1570</td>\n      <td>Metro</td>\n    </tr>\n    <tr>\n      <th>45</th>\n      <td>Entrecampos</td>\n      <td>Green Line</td>\n      <td>38.7479</td>\n      <td>9.1486</td>\n      <td>Metro</td>\n    </tr>\n    <tr>\n      <th>46</th>\n      <td>Campo Pequeno</td>\n      <td>Green Line</td>\n      <td>38.7428</td>\n      <td>9.1448</td>\n      <td>Metro</td>\n    </tr>\n    <tr>\n      <th>47</th>\n      <td>Saldanha</td>\n      <td>Green Line</td>\n      <td>38.7333</td>\n      <td>9.1460</td>\n      <td>Metro</td>\n    </tr>\n    <tr>\n      <th>48</th>\n      <td>Picoas</td>\n      <td>Green Line</td>\n      <td>38.7301</td>\n      <td>9.1450</td>\n      <td>Metro</td>\n    </tr>\n    <tr>\n      <th>49</th>\n      <td>Marquês de Pombal</td>\n      <td>Green Line</td>\n      <td>38.7254</td>\n      <td>9.1502</td>\n      <td>Metro</td>\n    </tr>\n    <tr>\n      <th>50</th>\n      <td>Rato</td>\n      <td>Green Line</td>\n      <td>38.7161</td>\n      <td>9.1512</td>\n      <td>Metro</td>\n    </tr>\n    <tr>\n      <th>51</th>\n      <td>Aeroporto</td>\n      <td>Red Line</td>\n      <td>38.7685</td>\n      <td>9.1282</td>\n      <td>Metro</td>\n    </tr>\n    <tr>\n      <th>52</th>\n      <td>Encarnação</td>\n      <td>Red Line</td>\n      <td>38.7615</td>\n      <td>9.1223</td>\n      <td>Metro</td>\n    </tr>\n    <tr>\n      <th>53</th>\n      <td>Moscavide</td>\n      <td>Red Line</td>\n      <td>38.7747</td>\n      <td>9.1039</td>\n      <td>Metro</td>\n    </tr>\n    <tr>\n      <th>54</th>\n      <td>Oriente</td>\n      <td>Red Line</td>\n      <td>38.7671</td>\n      <td>9.0992</td>\n      <td>Metro</td>\n    </tr>\n    <tr>\n      <th>55</th>\n      <td>Cabo Ruivo</td>\n      <td>Red Line</td>\n      <td>38.7573</td>\n      <td>9.1014</td>\n      <td>Metro</td>\n    </tr>\n    <tr>\n      <th>56</th>\n      <td>Olivais</td>\n      <td>Red Line</td>\n      <td>38.7589</td>\n      <td>9.1118</td>\n      <td>Metro</td>\n    </tr>\n    <tr>\n      <th>57</th>\n      <td>Chelas</td>\n      <td>Red Line</td>\n      <td>38.7489</td>\n      <td>9.1168</td>\n      <td>Metro</td>\n    </tr>\n    <tr>\n      <th>58</th>\n      <td>Bela Vista</td>\n      <td>Red Line</td>\n      <td>38.7525</td>\n      <td>9.1228</td>\n      <td>Metro</td>\n    </tr>\n    <tr>\n      <th>59</th>\n      <td>Olaias</td>\n      <td>Red Line</td>\n      <td>38.7351</td>\n      <td>9.1258</td>\n      <td>Metro</td>\n    </tr>\n    <tr>\n      <th>60</th>\n      <td>Alameda</td>\n      <td>Red Line</td>\n      <td>38.7419</td>\n      <td>9.1390</td>\n      <td>Metro</td>\n    </tr>\n    <tr>\n      <th>61</th>\n      <td>Saldanha</td>\n      <td>Red Line</td>\n      <td>38.7333</td>\n      <td>9.1460</td>\n      <td>Metro</td>\n    </tr>\n    <tr>\n      <th>62</th>\n      <td>São Sebastião</td>\n      <td>Red Line</td>\n      <td>38.7315</td>\n      <td>9.1532</td>\n      <td>Metro</td>\n    </tr>\n  </tbody>\n</table>\n</div>",
            "text/plain": "                    Name        Line  Latitude (°N)  Longitude (°W)  Metro\n20             Reboleira   Blue Line        38.7361          9.1982  Metro\n21          Amadora Este   Blue Line        38.7487          9.2093  Metro\n22            Alfornelos   Blue Line        38.7476          9.1962  Metro\n23              Pontinha   Blue Line        38.7570          9.1906  Metro\n24               Carnide   Blue Line        38.7572          9.1976  Metro\n25   Colégio Militar/Luz   Blue Line        38.7516          9.1914  Metro\n26      Alto dos Moinhos   Blue Line        38.7437          9.1727  Metro\n27           Laranjeiras   Blue Line        38.7378          9.1686  Metro\n28      Jardim Zoológico   Blue Line        38.7376          9.1648  Metro\n29      Praça de Espanha   Blue Line        38.7350          9.1575  Metro\n30         São Sebastião   Blue Line        38.7315          9.1532  Metro\n31                Parque   Blue Line        38.7318          9.1487  Metro\n32     Marquês de Pombal   Blue Line        38.7254          9.1502  Metro\n33               Avenida   Blue Line        38.7202          9.1453  Metro\n34         Restauradores   Blue Line        38.7156          9.1416  Metro\n35          Baixa-Chiado   Blue Line        38.7106          9.1395  Metro\n36      Terreiro do Paço   Blue Line        38.7078          9.1366  Metro\n37        Santa Apolónia   Blue Line        38.7134          9.1221  Metro\n38              Odivelas  Green Line        38.7939          9.1766  Metro\n39        Senhor Roubado  Green Line        38.7833          9.1706  Metro\n40            Ameixoeira  Green Line        38.7767          9.1662  Metro\n41                Lumiar  Green Line        38.7728          9.1636  Metro\n42    Quinta das Conchas  Green Line        38.7674          9.1572  Metro\n43          Campo Grande  Green Line        38.7598          9.1574  Metro\n44  Cidade Universitária  Green Line        38.7512          9.1570  Metro\n45           Entrecampos  Green Line        38.7479          9.1486  Metro\n46         Campo Pequeno  Green Line        38.7428          9.1448  Metro\n47              Saldanha  Green Line        38.7333          9.1460  Metro\n48                Picoas  Green Line        38.7301          9.1450  Metro\n49     Marquês de Pombal  Green Line        38.7254          9.1502  Metro\n50                  Rato  Green Line        38.7161          9.1512  Metro\n51             Aeroporto    Red Line        38.7685          9.1282  Metro\n52            Encarnação    Red Line        38.7615          9.1223  Metro\n53             Moscavide    Red Line        38.7747          9.1039  Metro\n54               Oriente    Red Line        38.7671          9.0992  Metro\n55            Cabo Ruivo    Red Line        38.7573          9.1014  Metro\n56               Olivais    Red Line        38.7589          9.1118  Metro\n57                Chelas    Red Line        38.7489          9.1168  Metro\n58            Bela Vista    Red Line        38.7525          9.1228  Metro\n59                Olaias    Red Line        38.7351          9.1258  Metro\n60               Alameda    Red Line        38.7419          9.1390  Metro\n61              Saldanha    Red Line        38.7333          9.1460  Metro\n62         São Sebastião    Red Line        38.7315          9.1532  Metro"
          },
          "metadata": {}
        }
      ],
      "execution_count": 7,
      "metadata": {},
      "id": "f2d21336"
    },
    {
      "cell_type": "code",
      "source": [
        "import math\n",
        "\n",
        "def haversine(lat1, lon1, lat2, lon2):\n",
        "    \"\"\"\n",
        "    Calculate the great circle distance between two points \n",
        "    on the earth (specified in decimal degrees)\n",
        "    \"\"\"\n",
        "    # Convert decimal degrees to radians \n",
        "    lon1, lat1, lon2, lat2 = map(math.radians, [lon1, lat1, lon2, lat2])\n",
        "\n",
        "    # Haversine formula \n",
        "    dlon = lon2 - lon1 \n",
        "    dlat = lat2 - lat1 \n",
        "    a = math.sin(dlat/2)**2 + math.cos(lat1) * math.cos(lat2) * math.sin(dlon/2)**2\n",
        "    c = 2 * math.asin(math.sqrt(a)) \n",
        "    r = 6371 # Radius of earth in kilometers. Use 3956 for miles\n",
        "    return c * r\n",
        "\n",
        "# Example usage:\n",
        "lat1, lon1 = 38.714, 9.1396 # Rossio Square\n",
        "lat2, lon2 = 38.7333, 9.146  # Saldanha\n",
        "\n",
        "\n",
        "distance = haversine(lat1, lon1, lat2, lon2)\n",
        "print(f\"The distance between Rossio Square and Saldanha is approximately {distance:.2f} kilometers.\")\n"
      ],
      "outputs": [
        {
          "output_type": "stream",
          "name": "stdout",
          "text": "The distance between Rossio Square and Saldanha is approximately 2.22 kilometers.\n"
        }
      ],
      "execution_count": 12,
      "metadata": {},
      "id": "5924ded0"
    },
    {
      "cell_type": "code",
      "source": [
        "combined_df = pd.concat([pois, metros])\n",
        "combined_df = combined_df.reset_index(drop=True) # Reset index after concatenation\n",
        "#Print combined data\n",
        "print(combined_df)\n",
        "combined_df.to_csv('Newcombined.csv', index=False, encoding='utf-8')"
      ],
      "outputs": [
        {
          "output_type": "stream",
          "name": "stdout",
          "text": "                                   Name      Line  Latitude (°N)  \\\n0                           Belém Tower       NaN        38.6916   \n1                   Jerónimos Monastery       NaN        38.6971   \n2   Commerce Square (Praça do Comércio)       NaN        38.7078   \n3                      São Jorge Castle       NaN        38.7139   \n4                         Rossio Square       NaN        38.7140   \n..                                  ...       ...            ...   \n58                           Bela Vista  Red Line        38.7525   \n59                               Olaias  Red Line        38.7351   \n60                              Alameda  Red Line        38.7419   \n61                             Saldanha  Red Line        38.7333   \n62                        São Sebastião  Red Line        38.7315   \n\n    Longitude (°W)  Metro  \n0           9.2150    POI  \n1           9.2069    POI  \n2           9.1366    POI  \n3           9.1335    POI  \n4           9.1396    POI  \n..             ...    ...  \n58          9.1228  Metro  \n59          9.1258  Metro  \n60          9.1390  Metro  \n61          9.1460  Metro  \n62          9.1532  Metro  \n\n[63 rows x 5 columns]\n"
        }
      ],
      "execution_count": 9,
      "metadata": {},
      "id": "197b4ea9"
    },
    {
      "cell_type": "code",
      "source": [
        "import pandas as pd\n",
        "import math\n",
        "\n",
        "def haversine(lat1, lon1, lat2, lon2):\n",
        "    \"\"\"\n",
        "    Calculate the great circle distance between two points \n",
        "    on the earth (specified in decimal degrees)\n",
        "    \"\"\"\n",
        "    # Convert decimal degrees to radians \n",
        "    lon1, lat1, lon2, lat2 = map(math.radians, [lon1, lat1, lon2, lat2])\n",
        "\n",
        "    # Haversine formula \n",
        "    dlon = lon2 - lon1 \n",
        "    dlat = lat2 - lat1 \n",
        "    a = math.sin(dlat/2)**2 + math.cos(lat1) * math.cos(lat2) * math.sin(dlon/2)**2\n",
        "    c = 2 * math.asin(math.sqrt(a)) \n",
        "    r = 6371 # Radius of earth in kilometers. Use 3956 for miles\n",
        "    return c * r\n",
        "\n",
        "# Specify your reference point (e.g., Rossio Square)\n",
        "reference_latitude = 38.714\n",
        "reference_longitude = 9.1396\n",
        "\n",
        "file=\"https://github.com/masterfloss/sustainability/raw/refs/heads/main/lisboa.xlsx\"\n",
        "df = pd.read_excel(file)\n",
        "\n",
        "# Calculate distances and add a new column using apply\n",
        "df['Distance'] = df.apply(lambda row: haversine(reference_latitude, reference_longitude, row['Latitude (°N)'], row['Longitude (°W)']), axis=1)\n",
        "\n",
        "#Fill NaN values in 'Distance' column with 0\n",
        "df['Distance'].fillna(0, inplace=True)\n",
        "\n",
        "#Save to CSV\n",
        "df.to_csv(\"data_with_distances.csv\", index=False, encoding='utf-8')\n",
        "\n",
        "print(\"Distances calculated and saved to 'data_with_distances.csv'\")\n"
      ],
      "outputs": [
        {
          "output_type": "stream",
          "name": "stdout",
          "text": "Distances calculated and saved to 'data_with_distances.csv'\n"
        }
      ],
      "execution_count": 4,
      "metadata": {},
      "id": "37edc4be"
    },
    {
      "cell_type": "code",
      "source": [
        "import pandas as pd\n",
        "import numpy as np\n",
        "import math\n",
        "\n",
        "def haversine(lat1, lon1, lat2, lon2):\n",
        "    \"\"\"\n",
        "    Calculate the great circle distance between two points \n",
        "    on the earth (specified in decimal degrees) using NumPy for array support.\n",
        "    \"\"\"\n",
        "    # Convert decimal degrees to radians \n",
        "    lon1, lat1, lon2, lat2 = map(np.radians, [lon1, lat1, lon2, lat2]) #Use np.radians\n",
        "\n",
        "    # Haversine formula \n",
        "    dlon = lon2 - lon1 \n",
        "    dlat = lat2 - lat1 \n",
        "    a = np.sin(dlat/2)**2 + np.cos(lat1) * np.cos(lat2) * np.sin(dlon/2)**2\n",
        "    c = 2 * np.arcsin(np.sqrt(a)) #Use np.arcsin and np.sqrt\n",
        "    r = 6371 \n",
        "    return c * r\n",
        "\n",
        "file=\"https://github.com/masterfloss/sustainability/raw/refs/heads/main/lisboa.xlsx\"\n",
        "df = pd.read_excel(file)\n",
        "\n",
        "# Separate POIs and Metro stations\n",
        "pois = df[df['Metro'] == 'POI']\n",
        "metros = df[df['Metro'] == 'Metro']\n",
        "\n",
        "# Efficient distance calculation using NumPy broadcasting\n",
        "poi_lats = pois['Latitude (°N)'].values\n",
        "poi_lons = pois['Longitude (°W)'].values\n",
        "metro_lats = metros['Latitude (°N)'].values\n",
        "metro_lons = metros['Longitude (°W)'].values\n",
        "\n",
        "distances = haversine(poi_lats[:, np.newaxis], poi_lons[:, np.newaxis], metro_lats, metro_lons)\n",
        "\n",
        "# Find the index of the closest metro station for each POI\n",
        "closest_metro_indices = np.argmin(distances, axis=1)\n",
        "\n",
        "# Get the names of the closest metro stations\n",
        "closest_metro_names = metros['Name'].iloc[closest_metro_indices].values\n",
        "\n",
        "# Get the minimum distances\n",
        "min_distances = np.min(distances, axis=1)\n",
        "\n",
        "# Add new columns to the POIs DataFrame\n",
        "pois['Closest Metro Station'] = closest_metro_names\n",
        "pois['Distance to Closest Metro'] = min_distances\n",
        "\n",
        "# Concatenate and save the updated DataFrame\n",
        "updated_df = pd.concat([pois, metros])\n",
        "updated_df.to_csv(\"lisbon_distances.csv\", index=False)\n",
        "\n",
        "print(\"Distances calculated and saved to 'lisbon_distances.csv'\")\n"
      ],
      "outputs": [
        {
          "output_type": "stream",
          "name": "stdout",
          "text": "Distances calculated and saved to 'lisbon_distances.csv'\n"
        },
        {
          "output_type": "stream",
          "name": "stderr",
          "text": "/var/folders/r5/f_wzp0x13cd3slgvq2x4dw9w0000gn/T/ipykernel_23466/2447801174.py:50: SettingWithCopyWarning: \nA value is trying to be set on a copy of a slice from a DataFrame.\nTry using .loc[row_indexer,col_indexer] = value instead\n\nSee the caveats in the documentation: https://pandas.pydata.org/pandas-docs/stable/user_guide/indexing.html#returning-a-view-versus-a-copy\n  pois['Closest Metro Station'] = closest_metro_names\n/var/folders/r5/f_wzp0x13cd3slgvq2x4dw9w0000gn/T/ipykernel_23466/2447801174.py:51: SettingWithCopyWarning: \nA value is trying to be set on a copy of a slice from a DataFrame.\nTry using .loc[row_indexer,col_indexer] = value instead\n\nSee the caveats in the documentation: https://pandas.pydata.org/pandas-docs/stable/user_guide/indexing.html#returning-a-view-versus-a-copy\n  pois['Distance to Closest Metro'] = min_distances\n"
        }
      ],
      "execution_count": 3,
      "metadata": {},
      "id": "515d4bb3"
    },
    {
      "cell_type": "code",
      "source": [
        "import pandas as pd\n",
        "import numpy as np\n",
        "import math\n",
        "\n",
        "def haversine(lat1, lon1, lat2, lon2):\n",
        "    \"\"\"Haversine formula for distance calculation (NumPy-compatible).\"\"\"\n",
        "    lon1, lat1, lon2, lat2 = map(np.radians, [lon1, lat1, lon2, lat2])\n",
        "    dlon = lon2 - lon1\n",
        "    dlat = lat2 - lat1\n",
        "    a = np.sin(dlat / 2)**2 + np.cos(lat1) * np.cos(lat2) * np.sin(dlon / 2)**2\n",
        "    c = 2 * np.arcsin(np.sqrt(a))\n",
        "    r = 6371  # Radius of earth in kilometers\n",
        "    return c * r\n",
        "\n",
        "file=\"https://github.com/masterfloss/sustainability/raw/refs/heads/main/lisboa.xlsx\"\n",
        "df = pd.read_excel(file)\n",
        "\n",
        "# Separate POIs and Metro stations\n",
        "pois = df[df['Metro'] == 'POI']\n",
        "metros = df[df['Metro'] == 'Metro']\n",
        "\n",
        "# Efficient distance calculation using NumPy broadcasting\n",
        "poi_lats = pois['Latitude (°N)'].values\n",
        "poi_lons = pois['Longitude (°W)'].values\n",
        "metro_lats = metros['Latitude (°N)'].values\n",
        "metro_lons = metros['Longitude (°W)'].values\n",
        "\n",
        "distances = haversine(poi_lats[:, np.newaxis], poi_lons[:, np.newaxis], metro_lats, metro_lons)\n",
        "\n",
        "# Calculate average distances for each POI\n",
        "avg_distances = np.mean(distances, axis=1)\n",
        "\n",
        "# Add the average distances to the POIs DataFrame\n",
        "pois['Average Distance to Metro'] = avg_distances\n",
        "\n",
        "# Concatenate and save\n",
        "updated_df = pd.concat([pois, metros])\n",
        "updated_df.to_csv(\"lisbon_avg_distances.csv\", index=False)\n",
        "\n",
        "print(\"Average distances calculated and saved to 'lisbon_avg_distances.csv'\")\n"
      ],
      "outputs": [
        {
          "output_type": "stream",
          "name": "stdout",
          "text": "Average distances calculated and saved to 'lisbon_avg_distances.csv'\n"
        },
        {
          "output_type": "stream",
          "name": "stderr",
          "text": "/var/folders/r5/f_wzp0x13cd3slgvq2x4dw9w0000gn/T/ipykernel_23466/3461486750.py:34: SettingWithCopyWarning: \nA value is trying to be set on a copy of a slice from a DataFrame.\nTry using .loc[row_indexer,col_indexer] = value instead\n\nSee the caveats in the documentation: https://pandas.pydata.org/pandas-docs/stable/user_guide/indexing.html#returning-a-view-versus-a-copy\n  pois['Average Distance to Metro'] = avg_distances\n"
        }
      ],
      "execution_count": 5,
      "metadata": {},
      "id": "59670ea9"
    },
    {
      "cell_type": "code",
      "source": [],
      "outputs": [],
      "execution_count": null,
      "metadata": {},
      "id": "b0cc2823"
    }
  ],
  "metadata": {
    "kernelspec": {
      "display_name": "Python 3 (ipykernel)",
      "language": "python",
      "name": "python3"
    },
    "language_info": {
      "codemirror_mode": {
        "name": "ipython",
        "version": 3
      },
      "file_extension": ".py",
      "mimetype": "text/x-python",
      "name": "python",
      "nbconvert_exporter": "python",
      "pygments_lexer": "ipython3",
      "version": "3.9.12"
    },
    "nteract": {
      "version": "nteract-front-end@1.0.0"
    }
  },
  "nbformat": 4,
  "nbformat_minor": 5
}