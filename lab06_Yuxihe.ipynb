{
  "cells": [
    {
      "cell_type": "markdown",
      "source": [
        "# Lab 6\n",
        "\n",
        "* calculate NPV. The rate is a float and the cash flows and investment are in a list.\n",
        "* create a function called NPV to calculate NPV\n",
        "* create a function to calcule IRR. In order to calculate IRR you may aproximate the follwoing expression:\n",
        "rate= rate*(1-NPV(CFList, rate)/invest). Remeber that invest is the first cashflow. \n",
        "* create a function to calculate the payback period\n",
        "* create a class adding all the properties and methods"
      ],
      "metadata": {}
    },
    {
      "cell_type": "code",
      "source": [
        "#Supose you have the follwoing cashflow\n",
        "cash_flow = [-10000, 2000, 3000, 4000, 4000, 5000]"
      ],
      "outputs": [],
      "execution_count": null,
      "metadata": {}
    },
    {
      "cell_type": "code",
      "source": [
        "# create a function called NPV to calculate NPV\n",
        "# sugestion: iterate both by index and value using enumerate function\n",
        " def NPV(cashflow, rate):\n",
        "        npv = 0\n",
        "        for t, cash_flow in enumerate(cashflow):\n",
        "            npv += cash_flow / (1 + rate) ** t\n",
        "        return npv"
      ],
      "outputs": [],
      "execution_count": null,
      "metadata": {}
    },
    {
      "cell_type": "code",
      "source": [
        "#create a function called IRR that returns the IRR value\n",
        "\n",
        "def calculate_irr(cashflow, initial_rate=0.1, tol=1e-6, max_iterations=1000):\n",
        "  \n",
        "   \n",
        "        invest = cash_flows[0]  \n",
        "        rate = initial_rate\n",
        "\n",
        "        for _ in range(max_iterations):\n",
        "            npv_value = NPV(cashflow, rate)\n",
        "            new_rate = rate * (1 - npv_value / invest)  # Update rate based on NPV\n",
        "        \n",
        "            if abs(new_rate - rate) < tol:  # Check for convergence\n",
        "                return new_rate\n",
        "        \n",
        "            rate = new_rate\n",
        "\n",
        "        raise ValueError(\"IRR did not converge after maximum iterations\")"
      ],
      "outputs": [],
      "execution_count": null,
      "metadata": {}
    },
    {
      "cell_type": "code",
      "source": [
        "\n",
        "def calculate_payback_period(cashflow):\n",
        "    if not cashflow or cashflow[0] >= 0:\n",
        "        raise ValueError(\"Cash flows must start with a negative value (initial investment).\")\n",
        "    \n",
        "    initial_investment = -cash_flows[0]  \n",
        "    payback_period = 0  \n",
        "    \n",
        "    for year, cash_flow in enumerate(cash_flows[1:], start=1):\n",
        "        cumulative_cash_flow += cash_flow\n",
        "        \n",
        "       \n",
        "        if cumulative_cash_flow >= initial_investment:\n",
        "            \n",
        "            overpaid_amount = cumulative_cash_flow - initial_investment\n",
        "            payback_period = year - 1 + (overpaid_amount / cash_flow)\n",
        "            return payback_period\n",
        "\n",
        "    return float('inf')  "
      ],
      "outputs": [],
      "execution_count": null,
      "metadata": {}
    },
    {
      "cell_type": "code",
      "source": [
        "# create a class adding all the properties and methods\n",
        "#\n",
        "#   +-------------+\n",
        "#   |   project   |\n",
        "#   |-------------|                 \n",
        "#   | cashflow    |\n",
        "#   | name        |                \n",
        "#   | rate        |                                      \n",
        "#   |-------------|              \n",
        "#   | __init__    |\n",
        "#   | calcNPV     |\n",
        "#   | calcIRR     |\n",
        "#   | seeCahsflow |\n",
        "#   +-------------+\n",
        "#\n",
        "\n",
        "class Project:\n",
        "    def __init__(self, name, cashflow, rate):\n",
        "        \"\"\"Initialize the project with a name, cashflow, and discount rate.\"\"\"\n",
        "        self.name = name                \n",
        "        self.cashflow = cashflow        \n",
        "        self.rate = rate                \n",
        "\n",
        "    def calcNPV(self):\n",
        "        \"\"\"Calculate the Net Present Value (NPV) of the project's cash flows.\"\"\"\n",
        "        npv = 0\n",
        "        for t, cash_flow in enumerate(self.cashflow):\n",
        "            npv += cash_flow / (1 + self.rate) ** t\n",
        "        return npv\n",
        "\n",
        "    def calcIRR(self, initial_rate=0.1, tol=1e-6, max_iterations=10000):\n",
        "        \"\"\"Calculate the Internal Rate of Return (IRR) using an iterative method.\"\"\"\n",
        "        invest = self.cashflow[0]  \n",
        "        rate = initial_rate\n",
        "\n",
        "        for _ in range(max_iterations):\n",
        "            npv_value = self.calcNPV() \n",
        "            new_rate = rate * (1 - npv_value / invest)  \n",
        "            \n",
        "            if abs(new_rate - rate) < tol:  \n",
        "                return new_rate\n",
        "            \n",
        "            rate = new_rate\n",
        "\n",
        "        raise ValueError(\"IRR did not converge after maximum iterations\")\n",
        "\n",
        "    def seeCashflow(self):\n",
        "        \"\"\"Display the project's cash flows.\"\"\"\n",
        "        print(f\"Cash Flow for the project '{self.name}':\")\n",
        "        for t, cf in enumerate(self.cashflow):\n",
        "            print(f\"Year {t}: ${cf:.2f}\")\n",
        "\n",
        "\n",
        "project = Project(\"New Development\", [-10000, 2000, 3000, 4000, 4000, 5000], 0.1)\n",
        "\n",
        "\n",
        "project.seeCashflow()\n",
        "\n",
        "\n",
        "npv_value = project.calcNPV()\n",
        "print(f\"NPV of the project: ${npv_value:.2f}\")\n",
        "\n",
        "\n",
        "try:\n",
        "    irr_value = project.calcIRR()\n",
        "    print(f\"IRR of the project: {irr_value:.6f}\")\n",
        "except ValueError as e:\n",
        "    print(e)\n",
        "\n",
        "\n",
        "\n"
      ],
      "outputs": [],
      "execution_count": 2,
      "metadata": {}
    },
    {
      "cell_type": "code",
      "source": [],
      "outputs": [],
      "execution_count": null,
      "metadata": {}
    }
  ],
  "metadata": {
    "kernelspec": {
      "name": "python",
      "language": "python",
      "display_name": "Pyolite (preview)"
    },
    "language_info": {
      "codemirror_mode": {
        "name": "python",
        "version": 3
      },
      "file_extension": ".py",
      "mimetype": "text/x-python",
      "name": "python",
      "nbconvert_exporter": "python",
      "pygments_lexer": "ipython3",
      "version": "3.8"
    },
    "kernel_info": {
      "name": "python"
    },
    "nteract": {
      "version": "nteract-front-end@1.0.0"
    }
  },
  "nbformat": 4,
  "nbformat_minor": 2
}