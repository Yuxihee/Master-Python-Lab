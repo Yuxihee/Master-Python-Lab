{
 "cells": [
  {
   "cell_type": "markdown",
   "metadata": {},
   "source": [
    "# Lab 4\n",
    "(Prof. Carlos J. Costa)"
   ]
  },
  {
   "cell_type": "code",
   "execution_count": null,
   "metadata": {},
   "outputs": [],
   "source": []
  },
  {
   "cell_type": "markdown",
   "metadata": {},
   "source": [
    "**1)**  Ask the user to insert his name and age. Then, calculate his birth year."
   ]
  },
  {
   "cell_type": "code",
   "execution_count": 3,
   "metadata": {},
   "outputs": [],
   "source": [
    "import datetime\n",
    "currentYear = datetime.datetime.now().year\n",
    "name=input(\"please input your name\")\n",
    "age=int(input(\"please input your age\"))\n",
    "birthYear=currentYear-age\n",
    "print(f\"{name} was born in {birthYear}\")"
   ]
  },
  {
   "cell_type": "markdown",
   "metadata": {},
   "source": [
    "**2)** Ask the user to insert a text. The program will always answer \"yes\". The conversation will be closed when the user says \"bye\". "
   ]
  },
  {
   "cell_type": "code",
   "execution_count": 4,
   "metadata": {},
   "outputs": [],
   "source": [
    "msg = \"\"\n",
    "while msg != \"bye\":\n",
    "    msg = input(\"Write a message: \")\n",
    "    if msg == \"bye\":\n",
    "        break\n",
    "    print(\"yes\")"
   ]
  },
  {
   "cell_type": "markdown",
   "metadata": {},
   "source": [
    "**3)** Create a function for a greeting"
   ]
  },
  {
   "cell_type": "code",
   "execution_count": 5,
   "metadata": {},
   "outputs": [],
   "source": [
    "def greet(name=\"\"):\n",
    "    print(\"hello, \"+name+\"!\")\n",
    "\n",
    "greet(\"Amy\")"
   ]
  },
  {
   "cell_type": "markdown",
   "metadata": {},
   "source": [
    "**4)** Call greeting function at the beginning of the conversation."
   ]
  },
  {
   "cell_type": "code",
   "execution_count": 6,
   "metadata": {},
   "outputs": [],
   "source": [
    "name=input(\"please input your name:\")\n",
    "greet(name)"
   ]
  },
  {
   "cell_type": "markdown",
   "metadata": {},
   "source": [
    "**5)** Improve your chatbot"
   ]
  },
  {
   "cell_type": "code",
   "execution_count": null,
   "metadata": {},
   "outputs": [],
   "source": [
    "import random\n",
    "\n",
    "def greet(name=\"\"):\n",
    "    print(\"hello, \"+name+\"!\")\n",
    "\n",
    "name=input(\"please input your name:\")\n",
    "greet(name)\n",
    "\n",
    "\n",
    "while True:\n",
    "    player = input(\"Game start! Please input: Rock, Scissors or Paper or input bye to exit\").capitalize()\n",
    "    if player == \"Bye\":\n",
    "        print(\"goodbye\")\n",
    "        break\n",
    "    elif player not in [\"Rock\", \"Scissors\", \"Paper\"]:\n",
    "        print(\"Invalid input. Please enter 'Rock', 'Scissors', or 'Paper'.\")\n",
    "        continue\n",
    "    else:\n",
    "        options = [\"Rock\", \"Scissors\", \"Paper\"]\n",
    "        computer = random.choice(options)\n",
    "\n",
    "        print(f'player output {player}')\n",
    "        print(f'computer output {computer}')\n",
    "\n",
    "        playerwin1=(player==\"Rock\")and (computer==\"Scissors\")\n",
    "        playerwin2=(player==\"Scissors\")and (computer==\"Paper\")\n",
    "        playerwin3=(player==\"Paper\")and (computer==\"Rock\")\n",
    "    \n",
    "        if (playerwin1) or (playerwin2) or (playerwin3):\n",
    "            print(\"Player win!\")\n",
    "        elif player==computer:\n",
    "            print(\"It's a tie. Let's go again.\")\n",
    "        else:\n",
    "            print(\"Computer win!\")"
   ]
  }
 ],
 "metadata": {
  "kernelspec": {
   "display_name": "Python 3 (ipykernel)",
   "language": "python",
   "name": "python3"
  },
  "language_info": {
   "codemirror_mode": {
    "name": "ipython",
    "version": 3
   },
   "file_extension": ".py",
   "mimetype": "text/x-python",
   "name": "python",
   "nbconvert_exporter": "python",
   "pygments_lexer": "ipython3",
   "version": "3.9.7"
  }
 },
 "nbformat": 4,
 "nbformat_minor": 2
}
